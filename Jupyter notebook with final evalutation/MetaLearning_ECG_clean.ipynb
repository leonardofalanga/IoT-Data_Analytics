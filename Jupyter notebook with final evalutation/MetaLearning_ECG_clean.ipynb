{
 "cells": [
  {
   "cell_type": "markdown",
   "id": "be277ae5",
   "metadata": {},
   "source": [
    "# Meta-Learning for ECG Anomaly Detection\n",
    "\n",
    "This notebook demonstrates a meta-learning approach to automatically select the best anomaly detection model\n",
    "for blocks of ECG time series. The process includes:\n",
    "\n",
    "- Splitting ECG signals into blocks\n",
    "- Extracting features with `tsfresh`\n",
    "- Evaluating anomaly detection models (`KNN`, `IsolationForest`)\n",
    "- Training a meta-classifier to choose the best-performing model\n",
    "\n",
    "**Author**: Leonardo Falanga  MAT. [0522502019]\n",
    "**Instructor**: Prof. Caruccio\n"
   ]
  },
  {
   "cell_type": "markdown",
   "id": "147b8b3c",
   "metadata": {},
   "source": [
    "## 1. Import Required Libraries\n",
    "I import the necessary libraries for time series processing, feature extraction, anomaly detection, and evaluation."
   ]
  },
  {
   "cell_type": "code",
   "id": "1e525ffa",
   "metadata": {
    "ExecuteTime": {
     "end_time": "2025-07-10T09:28:14.331472Z",
     "start_time": "2025-07-10T09:28:13.390920Z"
    }
   },
   "source": [
    "import os\n",
    "import pandas as pd\n",
    "import numpy as np\n",
    "from tsfresh import extract_features\n",
    "from tsfresh.feature_extraction import EfficientFCParameters\n",
    "from tsfresh.utilities.dataframe_functions import impute\n",
    "from pyod.models.knn import KNN\n",
    "from pyod.models.iforest import IForest\n",
    "from sklearn.ensemble import RandomForestClassifier\n",
    "from sklearn.metrics import accuracy_score, ConfusionMatrixDisplay\n",
    "from sklearn.model_selection import train_test_split\n",
    "import matplotlib.pyplot as plt\n",
    "import seaborn as sns\n"
   ],
   "outputs": [],
   "execution_count": 1
  },
  {
   "cell_type": "markdown",
   "id": "1dc5ac74",
   "metadata": {},
   "source": [
    "## 2. Load ECG Data and Segment into Blocks\n",
    "I load ECG signals from `.out` files and split them into fixed-size blocks for feature extraction."
   ]
  },
  {
   "cell_type": "code",
   "id": "f1c73598",
   "metadata": {
    "ExecuteTime": {
     "end_time": "2025-07-10T09:28:17.674222Z",
     "start_time": "2025-07-10T09:28:17.303603Z"
    }
   },
   "source": [
    "data_folder = './ECG'\n",
    "block_size = 2000\n",
    "all_blocks = []\n",
    "labels = []\n",
    "id_counter = 0\n",
    "\n",
    "ecg_files = [f for f in os.listdir(data_folder) if f.endswith('.out')]\n",
    "\n",
    "for file in ecg_files:\n",
    "    df = pd.read_csv(os.path.join(data_folder, file), header=None, names=['value', 'label'])\n",
    "    n_blocks = len(df) // block_size\n",
    "    for i in range(n_blocks):\n",
    "        block = df.iloc[i*block_size:(i+1)*block_size].copy()\n",
    "        block['id'] = id_counter\n",
    "        block['timestamp'] = block.index\n",
    "        block['true_label'] = block['label']\n",
    "        labels.append(block['label'])\n",
    "        all_blocks.append(block)\n",
    "        id_counter += 1\n"
   ],
   "outputs": [],
   "execution_count": 2
  },
  {
   "cell_type": "markdown",
   "id": "1034d101",
   "metadata": {},
   "source": [
    "## 3. Feature Extraction with TSFresh\n",
    "I extract statistical and structural features from each ECG block using the TSFresh library."
   ]
  },
  {
   "cell_type": "code",
   "id": "1c12cb83",
   "metadata": {
    "ExecuteTime": {
     "end_time": "2025-07-10T09:28:35.568768Z",
     "start_time": "2025-07-10T09:28:20.504785Z"
    }
   },
   "source": [
    "df_all = pd.concat(all_blocks)\n",
    "features_all = extract_features(\n",
    "    df_all[['id', 'timestamp', 'value']],\n",
    "    column_id='id',\n",
    "    column_sort='timestamp',\n",
    "    default_fc_parameters=EfficientFCParameters(),\n",
    "    disable_progressbar=False,\n",
    "    n_jobs=4\n",
    ")\n",
    "features_all = impute(features_all)\n"
   ],
   "outputs": [
    {
     "name": "stderr",
     "output_type": "stream",
     "text": [
      "Feature Extraction: 100%|██████████| 20/20 [00:14<00:00,  1.36it/s]\n",
      "/Users/leonardofalanga/miniconda3/lib/python3.12/site-packages/tsfresh/utilities/dataframe_functions.py:198: RuntimeWarning: The columns ['value__query_similarity_count__query_None__threshold_0.0'] did not have any finite values. Filling with zeros.\n",
      "  warnings.warn(\n"
     ]
    }
   ],
   "execution_count": 3
  },
  {
   "cell_type": "markdown",
   "id": "a17c8d46",
   "metadata": {},
   "source": [
    "## 4. Evaluate KNN vs Isolation Forest\n",
    "I compare two unsupervised anomaly detection models on each block and select the one with the highest accuracy."
   ]
  },
  {
   "cell_type": "code",
   "id": "2bf85635",
   "metadata": {
    "ExecuteTime": {
     "end_time": "2025-07-10T09:28:59.682755Z",
     "start_time": "2025-07-10T09:28:39.845505Z"
    }
   },
   "source": [
    "meta_X = []\n",
    "meta_y = []\n",
    "models = {'iforest': IForest(), 'knn': KNN()}\n",
    "\n",
    "for idx, block in enumerate(all_blocks):\n",
    "    best_model = None\n",
    "    best_accuracy = -1\n",
    "    for name, model in models.items():\n",
    "        model.fit(block[['value']])\n",
    "        preds = model.labels_\n",
    "        acc = accuracy_score(block['true_label'], preds)\n",
    "        if acc > best_accuracy:\n",
    "            best_accuracy = acc\n",
    "            best_model = name\n",
    "    meta_X.append(features_all.iloc[idx])\n",
    "    meta_y.append(best_model)\n"
   ],
   "outputs": [],
   "execution_count": 4
  },
  {
   "cell_type": "markdown",
   "id": "99a00d1b",
   "metadata": {},
   "source": [
    "## 5. Train the Meta-Model\n",
    "I train a Random Forest classifier to learn which model (KNN or IForest) performs best based on extracted features."
   ]
  },
  {
   "cell_type": "code",
   "id": "5a122b06",
   "metadata": {
    "ExecuteTime": {
     "end_time": "2025-07-10T09:29:03.418324Z",
     "start_time": "2025-07-10T09:29:02.861489Z"
    }
   },
   "source": [
    "X = pd.DataFrame(meta_X)\n",
    "y = pd.Series(meta_y)\n",
    "\n",
    "X_train, X_test, y_train, y_test = train_test_split(X, y, test_size=0.25, random_state=42)\n",
    "\n",
    "clf = RandomForestClassifier(random_state=42)\n",
    "clf.fit(X_train, y_train)\n",
    "y_pred = clf.predict(X_test)\n",
    "\n",
    "print(\"Meta-model accuracy on test set:\", accuracy_score(y_test, y_pred))\n"
   ],
   "outputs": [
    {
     "name": "stdout",
     "output_type": "stream",
     "text": [
      "Meta-model accuracy on test set: 0.9080459770114943\n"
     ]
    }
   ],
   "execution_count": 5
  },
  {
   "cell_type": "markdown",
   "id": "0576dff1",
   "metadata": {},
   "source": [
    "## 6. Visualize Results\n",
    "I show a confusion matrix of the meta-model's predictions on unseen data to evaluate its decision-making accuracy."
   ]
  },
  {
   "cell_type": "code",
   "id": "2273963a",
   "metadata": {
    "ExecuteTime": {
     "end_time": "2025-07-10T09:29:13.254588Z",
     "start_time": "2025-07-10T09:29:13.138131Z"
    }
   },
   "source": [
    "ConfusionMatrixDisplay.from_estimator(clf, X_test, y_test, cmap='Blues')\n",
    "plt.title(\"Confusion Matrix of Meta-Model\")\n",
    "plt.tight_layout()\n",
    "plt.show()"
   ],
   "outputs": [
    {
     "data": {
      "text/plain": [
       "<Figure size 640x480 with 2 Axes>"
      ],
      "image/png": "[encoded data removed]"
     },
     "metadata": {},
     "output_type": "display_data"
    }
   ],
   "execution_count": 6
  }
 ],
 "metadata": {},
 "nbformat": 4,
 "nbformat_minor": 5
}
